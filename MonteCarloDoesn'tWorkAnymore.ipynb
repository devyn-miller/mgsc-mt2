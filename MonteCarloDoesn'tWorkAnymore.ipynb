{
  "nbformat": 4,
  "nbformat_minor": 0,
  "metadata": {
    "colab": {
      "provenance": [],
      "include_colab_link": true
    },
    "kernelspec": {
      "name": "python3",
      "display_name": "Python 3"
    },
    "language_info": {
      "name": "python"
    }
  },
  "cells": [
    {
      "cell_type": "markdown",
      "metadata": {
        "id": "view-in-github",
        "colab_type": "text"
      },
      "source": [
        "<a href=\"https://colab.research.google.com/github/devyn-miller/mgsc-mt2/blob/main/MonteCarloDoesn'tWorkAnymore.ipynb\" target=\"_parent\"><img src=\"https://colab.research.google.com/assets/colab-badge.svg\" alt=\"Open In Colab\"/></a>"
      ]
    },
    {
      "cell_type": "markdown",
      "source": [
        "# Setup"
      ],
      "metadata": {
        "id": "-11mxf0eyafz"
      }
    },
    {
      "cell_type": "code",
      "execution_count": null,
      "metadata": {
        "id": "PEwdH9PSySXY"
      },
      "outputs": [],
      "source": [
        "import random\n",
        "import numpy as np"
      ]
    },
    {
      "cell_type": "markdown",
      "source": [
        "# Variables"
      ],
      "metadata": {
        "id": "0AzXiXODydeD"
      }
    },
    {
      "cell_type": "code",
      "source": [
        "SLOTS = 30\n",
        "MAX_WEIGHT = 50\n",
        "num_items = 150\n",
        "weights = [random.randint(1,10) for i in range(num_items)]\n",
        "values = [random.randint(5,20) for i in range(num_items)]\n"
      ],
      "metadata": {
        "id": "nlqwGvH4yWiF"
      },
      "execution_count": null,
      "outputs": []
    },
    {
      "cell_type": "code",
      "source": [
        "random_item = random.randint(0,num_items-1)\n",
        "print('Weight: '+str(weights[random_item])+ ' Value: '+str(values[random_item]))"
      ],
      "metadata": {
        "colab": {
          "base_uri": "https://localhost:8080/"
        },
        "id": "Pa2tSrRi0D2g",
        "outputId": "dcbe7dc8-5f0e-45bd-dfce-c56323d0d6d3"
      },
      "execution_count": null,
      "outputs": [
        {
          "output_type": "stream",
          "name": "stdout",
          "text": [
            "Weight: 1 Value: 60\n"
          ]
        }
      ]
    },
    {
      "cell_type": "code",
      "source": [
        "def random_strategy(num_items):\n",
        "  return [random.choices([0,1],weights=[0.95,0.05],k=1)[0] for i in range(num_items)]"
      ],
      "metadata": {
        "id": "JgLgnPxu0rUy"
      },
      "execution_count": null,
      "outputs": []
    },
    {
      "cell_type": "code",
      "source": [
        "random_strategy(10)"
      ],
      "metadata": {
        "colab": {
          "base_uri": "https://localhost:8080/"
        },
        "id": "HQI8l7qr5hf6",
        "outputId": "818a6753-4382-43e3-dc5e-f8508f080322"
      },
      "execution_count": null,
      "outputs": [
        {
          "output_type": "execute_result",
          "data": {
            "text/plain": [
              "[0, 0, 0, 0, 0, 0, 1, 0, 1, 1]"
            ]
          },
          "metadata": {},
          "execution_count": 44
        }
      ]
    },
    {
      "cell_type": "code",
      "source": [
        "def value_function(strategy):\n",
        "  return sum([action*values[i] for i,action in enumerate(strategy)])\n"
      ],
      "metadata": {
        "id": "jhK5jo6m1WRW"
      },
      "execution_count": null,
      "outputs": []
    },
    {
      "cell_type": "code",
      "source": [
        "def check_feasible(strategy):\n",
        "  return sum([action*weights[i] for i,action in enumerate(strategy)])<=MAX_WEIGHT"
      ],
      "metadata": {
        "id": "-C-gJ8_f2qR8"
      },
      "execution_count": null,
      "outputs": []
    },
    {
      "cell_type": "code",
      "source": [
        "def monte_carlo_iteration(num_items):\n",
        "  strat = random_strategy(num_items)\n",
        "  if check_feasible(strat):\n",
        "    return strat,value_function(strat)\n",
        "  else:\n",
        "    return strat,-1"
      ],
      "metadata": {
        "id": "cO21E_MO3RIr"
      },
      "execution_count": null,
      "outputs": []
    },
    {
      "cell_type": "code",
      "source": [
        "values[:10]"
      ],
      "metadata": {
        "colab": {
          "base_uri": "https://localhost:8080/"
        },
        "id": "g7kx957V1_GQ",
        "outputId": "2812fa99-8617-4809-e715-59aecc6168bc"
      },
      "execution_count": null,
      "outputs": [
        {
          "output_type": "execute_result",
          "data": {
            "text/plain": [
              "[7, 6, 6, 10, 9, 20, 14, 7, 14, 16]"
            ]
          },
          "metadata": {},
          "execution_count": 25
        }
      ]
    },
    {
      "cell_type": "code",
      "source": [
        "strat = random_strategy(10)\n",
        "strat"
      ],
      "metadata": {
        "colab": {
          "base_uri": "https://localhost:8080/"
        },
        "id": "91fB_CxB1KtE",
        "outputId": "87fc8430-883d-4d58-8712-47792df2aaf2"
      },
      "execution_count": null,
      "outputs": [
        {
          "output_type": "execute_result",
          "data": {
            "text/plain": [
              "[1, 0, 0, 0, 1, 0, 1, 1, 0, 1]"
            ]
          },
          "metadata": {},
          "execution_count": 26
        }
      ]
    },
    {
      "cell_type": "code",
      "source": [
        "weights[0] = 45\n",
        "weights[:10]"
      ],
      "metadata": {
        "colab": {
          "base_uri": "https://localhost:8080/"
        },
        "id": "fqrHi_BQ1Oyj",
        "outputId": "3358df72-9d08-4aa4-cc01-8dfa117e2aff"
      },
      "execution_count": null,
      "outputs": [
        {
          "output_type": "execute_result",
          "data": {
            "text/plain": [
              "[45, 8, 1, 2, 5, 10, 2, 4, 3, 4]"
            ]
          },
          "metadata": {},
          "execution_count": 31
        }
      ]
    },
    {
      "cell_type": "code",
      "source": [
        "check_feasible(strat)"
      ],
      "metadata": {
        "colab": {
          "base_uri": "https://localhost:8080/"
        },
        "id": "yshMu-7G2R-W",
        "outputId": "19761368-3864-4e8d-bc0f-d9027cd51e2e"
      },
      "execution_count": null,
      "outputs": [
        {
          "output_type": "execute_result",
          "data": {
            "text/plain": [
              "False"
            ]
          },
          "metadata": {},
          "execution_count": 32
        }
      ]
    },
    {
      "cell_type": "code",
      "source": [
        "monte_carlo_iteration(150)"
      ],
      "metadata": {
        "id": "eJQNjx7D3GOJ"
      },
      "execution_count": null,
      "outputs": []
    },
    {
      "cell_type": "code",
      "source": [
        "winning_strat = None\n",
        "winning_value = -1\n",
        "for i in range(100000):\n",
        "  strat,value = monte_carlo_iteration(num_items)\n",
        "  if value > winning_value:\n",
        "    winning_value = value\n",
        "    winning_strat = strat"
      ],
      "metadata": {
        "id": "ep7S7F9N4Rnl"
      },
      "execution_count": null,
      "outputs": []
    },
    {
      "cell_type": "code",
      "source": [
        "print(winning_value)"
      ],
      "metadata": {
        "colab": {
          "base_uri": "https://localhost:8080/"
        },
        "id": "uNeiZMaT4wmQ",
        "outputId": "5b857f37-1287-45bc-8b1e-d5b0a6bddb51"
      },
      "execution_count": null,
      "outputs": [
        {
          "output_type": "stream",
          "name": "stdout",
          "text": [
            "175\n"
          ]
        }
      ]
    },
    {
      "cell_type": "code",
      "source": [],
      "metadata": {
        "id": "l9cKi_f85LNP"
      },
      "execution_count": null,
      "outputs": []
    }
  ]
}