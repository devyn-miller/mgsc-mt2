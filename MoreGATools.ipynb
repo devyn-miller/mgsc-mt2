{
  "nbformat": 4,
  "nbformat_minor": 0,
  "metadata": {
    "colab": {
      "provenance": [],
      "include_colab_link": true
    },
    "kernelspec": {
      "name": "python3",
      "display_name": "Python 3"
    },
    "language_info": {
      "name": "python"
    }
  },
  "cells": [
    {
      "cell_type": "markdown",
      "metadata": {
        "id": "view-in-github",
        "colab_type": "text"
      },
      "source": [
        "<a href=\"https://colab.research.google.com/github/devyn-miller/mgsc-mt2/blob/main/MoreGATools.ipynb\" target=\"_parent\"><img src=\"https://colab.research.google.com/assets/colab-badge.svg\" alt=\"Open In Colab\"/></a>"
      ]
    },
    {
      "cell_type": "code",
      "execution_count": null,
      "metadata": {
        "id": "LAUxgLhj__Vd"
      },
      "outputs": [],
      "source": [
        "import random\n",
        "import numpy as np\n",
        "from collections import defaultdict"
      ]
    },
    {
      "cell_type": "code",
      "source": [
        "coordinates = [[1,1], [10,1], [1,10], [5,5], [13,3], [8,2], [2,15], [3,4], [4,8], [20,20]]"
      ],
      "metadata": {
        "id": "qTER304BA7HI"
      },
      "execution_count": null,
      "outputs": []
    },
    {
      "cell_type": "code",
      "source": [
        "def random_strategy(num_cities):\n",
        "  return random.sample(range(num_cities),k=num_cities)"
      ],
      "metadata": {
        "id": "zxk6oQpFAIXM"
      },
      "execution_count": null,
      "outputs": []
    },
    {
      "cell_type": "code",
      "source": [
        "def two_point_distance(p1,p2):\n",
        "  dist = ((p1[0]-p2[0])**2 + (p1[1]-p2[1])**2)**0.5\n",
        "  return dist"
      ],
      "metadata": {
        "id": "iYcVeDqi_uSA"
      },
      "execution_count": null,
      "outputs": []
    },
    {
      "cell_type": "code",
      "source": [
        "miles_dict = defaultdict(lambda: None)\n",
        "miles_dict[(tuple([1,1]),tuple([10,1]))] = 9"
      ],
      "metadata": {
        "id": "kg_BLHPJJ463"
      },
      "execution_count": null,
      "outputs": []
    },
    {
      "cell_type": "code",
      "source": [
        "for coordinate in coordinates:\n",
        "  for c in coordinates:\n",
        "    miles_dict[(tuple(coordinate),tuple(c))] = two_point_distance(coordinate,c)"
      ],
      "metadata": {
        "id": "pv3dr31W9odp"
      },
      "execution_count": null,
      "outputs": []
    },
    {
      "cell_type": "code",
      "source": [
        "def lookup_distance(strategy):\n",
        "  miles = 0\n",
        "  for ix in range(len(strategy)):\n",
        "    miles += miles_dict[tuple(coordinates[strategy[ix]]),tuple(coordinates[strategy[(ix+1)%len(strategy)]])]\n",
        "  return miles"
      ],
      "metadata": {
        "id": "RgmQsFrRBmJT"
      },
      "execution_count": null,
      "outputs": []
    },
    {
      "cell_type": "code",
      "source": [
        "def distance(strategy):\n",
        "  miles = 0\n",
        "  for index in range(len(strategy)):\n",
        "    m = two_point_distance(coordinates[strategy[index]],coordinates[strategy[(index+1)%len(strategy)]])\n",
        "    miles += m\n",
        "  return miles"
      ],
      "metadata": {
        "id": "EJDBk-7tB-1r"
      },
      "execution_count": null,
      "outputs": []
    },
    {
      "cell_type": "code",
      "source": [
        "def swap_mutation(strategy):\n",
        "  i,j = random.sample(strategy,2)\n",
        "  strategy[i],strategy[j] = strategy[j],strategy[i]\n",
        "  return strategy"
      ],
      "metadata": {
        "id": "dE2-KnQRINWc"
      },
      "execution_count": null,
      "outputs": []
    },
    {
      "cell_type": "code",
      "source": [
        "def jumble_mutation(strategy):\n",
        "  starting_point = random.randint(1,len(strategy)-2)\n",
        "  window_size = random.randint(1,len(strategy[starting_point:]))\n",
        "  window = strategy[starting_point:starting_point+window_size]\n",
        "  jumbled_window = random.sample(window,window_size)\n",
        "  new_strat = strategy[:starting_point]+jumbled_window+strategy[starting_point+window_size:]\n",
        "  return new_strat"
      ],
      "metadata": {
        "id": "gt53ohXKKyWa"
      },
      "execution_count": null,
      "outputs": []
    },
    {
      "cell_type": "code",
      "source": [
        "def subset_mutation(strategy):\n",
        "  idx1 = random.randint(0,len(strategy)-1)\n",
        "  window_size = random.randint(1,len(strategy[idx1:]))\n",
        "  subset = []\n",
        "  base_set = []\n",
        "  for i, value in enumerate(strategy):\n",
        "    if i < idx1 or i > idx1 + window_size:\n",
        "      base_set.append(value)\n",
        "    else:\n",
        "      subset.append(value)\n",
        "  print(subset)\n",
        "  idx2 =  random.randint(0,len(base_set))\n",
        "  for i, value in enumerate(subset):\n",
        "    base_set.insert(idx2+i,value)\n",
        "  return base_set"
      ],
      "metadata": {
        "id": "VbBeG05kNL9a"
      },
      "execution_count": null,
      "outputs": []
    },
    {
      "cell_type": "code",
      "source": [
        "%%timeit\n",
        "lookup_distance(list(range(10)))"
      ],
      "metadata": {
        "id": "9niQ3o6cRX9d",
        "colab": {
          "base_uri": "https://localhost:8080/"
        },
        "outputId": "5b0fcd4e-c74d-43cc-e500-a38887178861"
      },
      "execution_count": null,
      "outputs": [
        {
          "output_type": "stream",
          "name": "stdout",
          "text": [
            "4.72 µs ± 71.9 ns per loop (mean ± std. dev. of 7 runs, 100000 loops each)\n"
          ]
        }
      ]
    },
    {
      "cell_type": "code",
      "source": [
        "%%timeit\n",
        "distance(list(range(10)))"
      ],
      "metadata": {
        "colab": {
          "base_uri": "https://localhost:8080/"
        },
        "id": "rqMZy_saCkpH",
        "outputId": "85998dc1-4d5f-4b7a-bae8-856d2eaf0e64"
      },
      "execution_count": null,
      "outputs": [
        {
          "output_type": "stream",
          "name": "stdout",
          "text": [
            "12.1 µs ± 2.65 µs per loop (mean ± std. dev. of 7 runs, 100000 loops each)\n"
          ]
        }
      ]
    },
    {
      "cell_type": "code",
      "source": [
        "fitness_dict = defaultdict(lambda: None)"
      ],
      "metadata": {
        "id": "M6C662wbEWqr"
      },
      "execution_count": null,
      "outputs": []
    },
    {
      "cell_type": "code",
      "source": [
        "def fitness_lookup(strategy):\n",
        "  dist = fitness_dict[tuple(strategy)]\n",
        "  if dist:\n",
        "    return dist\n",
        "  else:\n",
        "    dist = lookup_distance(strategy)\n",
        "    fitness_dict[tuple(strategy)] = dist\n",
        "    return dist"
      ],
      "metadata": {
        "id": "Y-pTwUqwEkZ7"
      },
      "execution_count": null,
      "outputs": []
    },
    {
      "cell_type": "code",
      "source": [
        "def elitism(population):\n",
        "  fitnesses = [fitness_lookup(strat) for strat in population]\n",
        "  fitnesses, sorted_population = zip(*sorted(zip(fitnesses,population)))\n",
        "  elites = sorted_population[:3]\n",
        "  return elites"
      ],
      "metadata": {
        "id": "v0gjT7w0GWKf"
      },
      "execution_count": null,
      "outputs": []
    },
    {
      "cell_type": "code",
      "source": [
        "def roulette_selection_w_elitism(parent_pop,child_pop,new_pop_size):\n",
        "  big_pop = parent_pop + child_pop\n",
        "  new_pop = []\n",
        "  new_pop += elitism(big_pop)\n",
        "  for i in range(new_pop_size-3):\n",
        "    sol1,sol2 = random.choices(big_pop,k=2)\n",
        "    if fitness_lookup(sol1)>fitness_lookup(sol2):\n",
        "      new_pop.append(sol1)\n",
        "    else:\n",
        "      new_pop.append(sol2)\n",
        "  return new_pop"
      ],
      "metadata": {
        "id": "GNlaSqz3HP0g"
      },
      "execution_count": null,
      "outputs": []
    },
    {
      "cell_type": "code",
      "source": [
        "def weighted_roulette(parent_pop,child_pop,new_pop_size):\n",
        "  big_pop = parent_pop + child_pop\n",
        "  new_pop = []\n",
        "  big_pop_fit = [fitness_lookup(strategy) for strategy in big_pop]\n",
        "  big_pop_prob = [(sum(big_pop_fit)- strategy_fit)/((len(big_pop)-1)*sum(big_pop_fit)) for strategy_fit in big_pop_fit]\n",
        "  for i in range(new_pop_size):\n",
        "    sol1,sol2 = random.choices(big_pop,weights = big_pop_prob, k=2)\n",
        "    if big_pop_fit[big_pop.index(sol1)] > big_pop_fit[big_pop.index(sol2)]:\n",
        "      new_pop.append(sol2)\n",
        "    else:\n",
        "      new_pop.append(sol1)\n",
        "  return new_pop"
      ],
      "metadata": {
        "id": "50KBzZMtLiMh"
      },
      "execution_count": null,
      "outputs": []
    },
    {
      "cell_type": "code",
      "source": [
        "def ranked_roulette(parent_pop,child_pop,new_pop_size):\n",
        "  big_pop = parent_pop + child_pop\n",
        "  new_pop = []\n",
        "  big_pop_fit = [fitness_lookup(strategy) for strategy in big_pop]\n",
        "  sorted_big_fit, sorted_big_population = zip(*sorted(zip(big_pop_fit,big_pop),reverse=True))\n",
        "  for i in range(new_pop_size):\n",
        "    sol1,sol2 = random.choices(sorted_big_population,weights=list(range(1,len(big_pop)+1)),k=2)\n",
        "    if big_pop_fit[big_pop.index(sol1)] > big_pop_fit[big_pop.index(sol2)]:\n",
        "      new_pop.append(sol2)\n",
        "    else:\n",
        "      new_pop.append(sol1)\n",
        "  return new_pop"
      ],
      "metadata": {
        "id": "uHjClXA7Xb--"
      },
      "execution_count": null,
      "outputs": []
    },
    {
      "cell_type": "code",
      "source": [
        "def knapsack_mutation(strategy,mutation_prob):\n",
        "  for ix in range(len(strategy)):\n",
        "    if random.random()<mutation_prob:\n",
        "      strategy[ix] = 1-strategy[ix]"
      ],
      "metadata": {
        "id": "MYkICfVLetDF"
      },
      "execution_count": null,
      "outputs": []
    },
    {
      "cell_type": "code",
      "source": [
        "def crossover(p1,p2):\n",
        "  cross_index = random.randint(1,len(p1)-1)\n",
        "  c1 = p1[:cross_index] + [point for point in p2 if point in p1[cross_index:]]\n",
        "  c2 = p2[:cross_index] + [point for point in p1 if point in p1[cross_index:]]\n",
        "  return c1,c2"
      ],
      "metadata": {
        "id": "4rAzuyPdgT53"
      },
      "execution_count": null,
      "outputs": []
    },
    {
      "cell_type": "code",
      "source": [
        "def get_children(parents,pop_size):\n",
        "  children = []\n",
        "  for i in range(pop_size//2):\n",
        "    p1,p2=random.choices(parents,k=2)\n",
        "    c1,c2=crossover(p1,p2)\n",
        "    children.append(jumble_mutation(c1))\n",
        "    children.append(jumble_mutation(c2))\n",
        "  return children"
      ],
      "metadata": {
        "id": "YZJ1ucWfi_vA"
      },
      "execution_count": null,
      "outputs": []
    },
    {
      "cell_type": "code",
      "source": [
        "parents = [random_strategy(10) for i in range(10)]\n",
        "children = [random_strategy(10) for i in range(10)]"
      ],
      "metadata": {
        "id": "xc_krhsvSxwk"
      },
      "execution_count": null,
      "outputs": []
    },
    {
      "cell_type": "code",
      "source": [
        "new_pop = ranked_roulette(parents,children,10)"
      ],
      "metadata": {
        "id": "0CuIQGdzTD4J"
      },
      "execution_count": null,
      "outputs": []
    },
    {
      "cell_type": "code",
      "source": [
        "fitness_dict"
      ],
      "metadata": {
        "colab": {
          "base_uri": "https://localhost:8080/"
        },
        "id": "t9WJwjvrTNSA",
        "outputId": "6088a0d2-686f-4060-ff23-277b34ac0758"
      },
      "execution_count": null,
      "outputs": [
        {
          "output_type": "execute_result",
          "data": {
            "text/plain": [
              "defaultdict(<function __main__.<lambda>()>,\n",
              "            {(0, 6, 5, 2, 3, 7, 8, 4, 1, 9): 113.98808321930319,\n",
              "             (1, 8, 9, 3, 4, 6, 5, 2, 0, 7): 120.12707099756325,\n",
              "             (3, 1, 7, 9, 6, 2, 4, 8, 0, 5): 104.26224934430194,\n",
              "             (6, 0, 1, 8, 4, 9, 5, 2, 3, 7): 112.8836264543868,\n",
              "             (6, 7, 2, 5, 4, 8, 1, 0, 3, 9): 107.16585563948956,\n",
              "             (8, 3, 5, 6, 7, 1, 0, 2, 4, 9): 110.66109383391523,\n",
              "             (4, 0, 2, 9, 5, 3, 7, 1, 8, 6): 111.14269998012037,\n",
              "             (8, 1, 0, 6, 4, 5, 2, 9, 3, 7): 113.30648681963599,\n",
              "             (7, 9, 5, 2, 1, 6, 0, 4, 8, 3): 126.35629577020086,\n",
              "             (5, 0, 9, 4, 8, 7, 3, 6, 1, 2): 118.90359543150913,\n",
              "             (6, 5, 4, 0, 8, 7, 3, 2, 1, 9): 104.84081089109094,\n",
              "             (0, 5, 4, 3, 7, 2, 6, 8, 1, 9): 98.91656397336902,\n",
              "             (7, 9, 3, 0, 2, 4, 1, 5, 6, 8): 104.67039256553443,\n",
              "             (8, 9, 2, 0, 4, 3, 7, 1, 5, 6): 104.56848687883601,\n",
              "             (9, 8, 0, 1, 3, 6, 7, 4, 2, 5): 120.71033794548386,\n",
              "             (5, 4, 8, 7, 0, 1, 6, 9, 2, 3): 99.04603922266396,\n",
              "             (8, 2, 7, 6, 0, 9, 3, 4, 1, 5): 104.39333063641853,\n",
              "             (7, 1, 0, 4, 9, 3, 2, 8, 5, 6): 110.96223805719545,\n",
              "             (9, 4, 1, 0, 3, 2, 5, 6, 8, 7): 102.74672352400614,\n",
              "             (7, 4, 0, 9, 6, 5, 3, 2, 1, 8): 118.80115819117243})"
            ]
          },
          "metadata": {},
          "execution_count": 23
        }
      ]
    },
    {
      "cell_type": "code",
      "source": [
        "strat = [0,0,0,0,0,0,0,0,0]\n",
        "knapsack_mutation(strat,0.5)\n",
        "strat"
      ],
      "metadata": {
        "colab": {
          "base_uri": "https://localhost:8080/"
        },
        "id": "rqJ2XoG-Yfzv",
        "outputId": "9e651eae-bf3d-4bfa-8e3e-db0e5f7b1b7c"
      },
      "execution_count": null,
      "outputs": [
        {
          "output_type": "execute_result",
          "data": {
            "text/plain": [
              "[1, 1, 1, 1, 0, 1, 0, 0, 1]"
            ]
          },
          "metadata": {},
          "execution_count": 48
        }
      ]
    },
    {
      "cell_type": "code",
      "source": [
        "def traveling_ga(pop_size,num_iterations):\n",
        "  population = [random_strategy(10) for i in range(pop_size)]\n",
        "  for i in range(num_iterations):\n",
        "    print(i)\n",
        "    child_pop = get_children(population,pop_size)\n",
        "    population = weighted_roulette(population,child_pop,pop_size)\n",
        "  return population"
      ],
      "metadata": {
        "id": "3cfWMht1gG2-"
      },
      "execution_count": null,
      "outputs": []
    },
    {
      "cell_type": "code",
      "source": [
        "population = traveling_ga(100,1000)"
      ],
      "metadata": {
        "id": "fJRHK37uieHd",
        "colab": {
          "base_uri": "https://localhost:8080/",
          "height": 470
        },
        "outputId": "14645190-471f-438a-d661-6a71e1d1239c"
      },
      "execution_count": null,
      "outputs": [
        {
          "output_type": "stream",
          "name": "stdout",
          "text": [
            "0\n",
            "1\n",
            "2\n",
            "3\n",
            "4\n",
            "5\n",
            "6\n",
            "7\n",
            "8\n"
          ]
        },
        {
          "output_type": "error",
          "ename": "ValueError",
          "evalue": "ignored",
          "traceback": [
            "\u001b[0;31m---------------------------------------------------------------------------\u001b[0m",
            "\u001b[0;31mValueError\u001b[0m                                Traceback (most recent call last)",
            "\u001b[0;32m<ipython-input-40-81a4805a3d86>\u001b[0m in \u001b[0;36m<cell line: 1>\u001b[0;34m()\u001b[0m\n\u001b[0;32m----> 1\u001b[0;31m \u001b[0mpopulation\u001b[0m \u001b[0;34m=\u001b[0m \u001b[0mtraveling_ga\u001b[0m\u001b[0;34m(\u001b[0m\u001b[0;36m100\u001b[0m\u001b[0;34m,\u001b[0m\u001b[0;36m1000\u001b[0m\u001b[0;34m)\u001b[0m\u001b[0;34m\u001b[0m\u001b[0;34m\u001b[0m\u001b[0m\n\u001b[0m",
            "\u001b[0;32m<ipython-input-33-9108d1ff4e48>\u001b[0m in \u001b[0;36mtraveling_ga\u001b[0;34m(pop_size, num_iterations)\u001b[0m\n\u001b[1;32m      3\u001b[0m   \u001b[0;32mfor\u001b[0m \u001b[0mi\u001b[0m \u001b[0;32min\u001b[0m \u001b[0mrange\u001b[0m\u001b[0;34m(\u001b[0m\u001b[0mnum_iterations\u001b[0m\u001b[0;34m)\u001b[0m\u001b[0;34m:\u001b[0m\u001b[0;34m\u001b[0m\u001b[0;34m\u001b[0m\u001b[0m\n\u001b[1;32m      4\u001b[0m     \u001b[0mprint\u001b[0m\u001b[0;34m(\u001b[0m\u001b[0mi\u001b[0m\u001b[0;34m)\u001b[0m\u001b[0;34m\u001b[0m\u001b[0;34m\u001b[0m\u001b[0m\n\u001b[0;32m----> 5\u001b[0;31m     \u001b[0mchild_pop\u001b[0m \u001b[0;34m=\u001b[0m \u001b[0mget_children\u001b[0m\u001b[0;34m(\u001b[0m\u001b[0mpopulation\u001b[0m\u001b[0;34m,\u001b[0m\u001b[0mpop_size\u001b[0m\u001b[0;34m)\u001b[0m\u001b[0;34m\u001b[0m\u001b[0;34m\u001b[0m\u001b[0m\n\u001b[0m\u001b[1;32m      6\u001b[0m     \u001b[0mpopulation\u001b[0m \u001b[0;34m=\u001b[0m \u001b[0mweighted_roulette\u001b[0m\u001b[0;34m(\u001b[0m\u001b[0mpopulation\u001b[0m\u001b[0;34m,\u001b[0m\u001b[0mchild_pop\u001b[0m\u001b[0;34m,\u001b[0m\u001b[0mpop_size\u001b[0m\u001b[0;34m)\u001b[0m\u001b[0;34m\u001b[0m\u001b[0;34m\u001b[0m\u001b[0m\n\u001b[1;32m      7\u001b[0m   \u001b[0;32mreturn\u001b[0m \u001b[0mpopulation\u001b[0m\u001b[0;34m\u001b[0m\u001b[0;34m\u001b[0m\u001b[0m\n",
            "\u001b[0;32m<ipython-input-39-2711133c104a>\u001b[0m in \u001b[0;36mget_children\u001b[0;34m(parents, pop_size)\u001b[0m\n\u001b[1;32m      4\u001b[0m     \u001b[0mp1\u001b[0m\u001b[0;34m,\u001b[0m\u001b[0mp2\u001b[0m\u001b[0;34m=\u001b[0m\u001b[0mrandom\u001b[0m\u001b[0;34m.\u001b[0m\u001b[0mchoices\u001b[0m\u001b[0;34m(\u001b[0m\u001b[0mparents\u001b[0m\u001b[0;34m,\u001b[0m\u001b[0mk\u001b[0m\u001b[0;34m=\u001b[0m\u001b[0;36m2\u001b[0m\u001b[0;34m)\u001b[0m\u001b[0;34m\u001b[0m\u001b[0;34m\u001b[0m\u001b[0m\n\u001b[1;32m      5\u001b[0m     \u001b[0mc1\u001b[0m\u001b[0;34m,\u001b[0m\u001b[0mc2\u001b[0m\u001b[0;34m=\u001b[0m\u001b[0mcrossover\u001b[0m\u001b[0;34m(\u001b[0m\u001b[0mp1\u001b[0m\u001b[0;34m,\u001b[0m\u001b[0mp2\u001b[0m\u001b[0;34m)\u001b[0m\u001b[0;34m\u001b[0m\u001b[0;34m\u001b[0m\u001b[0m\n\u001b[0;32m----> 6\u001b[0;31m     \u001b[0mchildren\u001b[0m\u001b[0;34m.\u001b[0m\u001b[0mappend\u001b[0m\u001b[0;34m(\u001b[0m\u001b[0mjumble_mutation\u001b[0m\u001b[0;34m(\u001b[0m\u001b[0mc1\u001b[0m\u001b[0;34m)\u001b[0m\u001b[0;34m)\u001b[0m\u001b[0;34m\u001b[0m\u001b[0;34m\u001b[0m\u001b[0m\n\u001b[0m\u001b[1;32m      7\u001b[0m     \u001b[0mchildren\u001b[0m\u001b[0;34m.\u001b[0m\u001b[0mappend\u001b[0m\u001b[0;34m(\u001b[0m\u001b[0mjumble_mutation\u001b[0m\u001b[0;34m(\u001b[0m\u001b[0mc2\u001b[0m\u001b[0;34m)\u001b[0m\u001b[0;34m)\u001b[0m\u001b[0;34m\u001b[0m\u001b[0;34m\u001b[0m\u001b[0m\n\u001b[1;32m      8\u001b[0m   \u001b[0;32mreturn\u001b[0m \u001b[0mchildren\u001b[0m\u001b[0;34m\u001b[0m\u001b[0;34m\u001b[0m\u001b[0m\n",
            "\u001b[0;32m<ipython-input-10-6cfcb0e3c0a8>\u001b[0m in \u001b[0;36mjumble_mutation\u001b[0;34m(strategy)\u001b[0m\n\u001b[1;32m      1\u001b[0m \u001b[0;32mdef\u001b[0m \u001b[0mjumble_mutation\u001b[0m\u001b[0;34m(\u001b[0m\u001b[0mstrategy\u001b[0m\u001b[0;34m)\u001b[0m\u001b[0;34m:\u001b[0m\u001b[0;34m\u001b[0m\u001b[0;34m\u001b[0m\u001b[0m\n\u001b[0;32m----> 2\u001b[0;31m   \u001b[0mstarting_point\u001b[0m \u001b[0;34m=\u001b[0m \u001b[0mrandom\u001b[0m\u001b[0;34m.\u001b[0m\u001b[0mrandint\u001b[0m\u001b[0;34m(\u001b[0m\u001b[0;36m1\u001b[0m\u001b[0;34m,\u001b[0m\u001b[0mlen\u001b[0m\u001b[0;34m(\u001b[0m\u001b[0mstrategy\u001b[0m\u001b[0;34m)\u001b[0m\u001b[0;34m-\u001b[0m\u001b[0;36m2\u001b[0m\u001b[0;34m)\u001b[0m\u001b[0;34m\u001b[0m\u001b[0;34m\u001b[0m\u001b[0m\n\u001b[0m\u001b[1;32m      3\u001b[0m   \u001b[0mwindow_size\u001b[0m \u001b[0;34m=\u001b[0m \u001b[0mrandom\u001b[0m\u001b[0;34m.\u001b[0m\u001b[0mrandint\u001b[0m\u001b[0;34m(\u001b[0m\u001b[0;36m1\u001b[0m\u001b[0;34m,\u001b[0m\u001b[0mlen\u001b[0m\u001b[0;34m(\u001b[0m\u001b[0mstrategy\u001b[0m\u001b[0;34m[\u001b[0m\u001b[0mstarting_point\u001b[0m\u001b[0;34m:\u001b[0m\u001b[0;34m]\u001b[0m\u001b[0;34m)\u001b[0m\u001b[0;34m)\u001b[0m\u001b[0;34m\u001b[0m\u001b[0;34m\u001b[0m\u001b[0m\n\u001b[1;32m      4\u001b[0m   \u001b[0mwindow\u001b[0m \u001b[0;34m=\u001b[0m \u001b[0mstrategy\u001b[0m\u001b[0;34m[\u001b[0m\u001b[0mstarting_point\u001b[0m\u001b[0;34m:\u001b[0m\u001b[0mstarting_point\u001b[0m\u001b[0;34m+\u001b[0m\u001b[0mwindow_size\u001b[0m\u001b[0;34m]\u001b[0m\u001b[0;34m\u001b[0m\u001b[0;34m\u001b[0m\u001b[0m\n\u001b[1;32m      5\u001b[0m   \u001b[0mjumbled_window\u001b[0m \u001b[0;34m=\u001b[0m \u001b[0mrandom\u001b[0m\u001b[0;34m.\u001b[0m\u001b[0msample\u001b[0m\u001b[0;34m(\u001b[0m\u001b[0mwindow\u001b[0m\u001b[0;34m,\u001b[0m\u001b[0mwindow_size\u001b[0m\u001b[0;34m)\u001b[0m\u001b[0;34m\u001b[0m\u001b[0;34m\u001b[0m\u001b[0m\n",
            "\u001b[0;32m/usr/lib/python3.10/random.py\u001b[0m in \u001b[0;36mrandint\u001b[0;34m(self, a, b)\u001b[0m\n\u001b[1;32m    368\u001b[0m         \"\"\"\n\u001b[1;32m    369\u001b[0m \u001b[0;34m\u001b[0m\u001b[0m\n\u001b[0;32m--> 370\u001b[0;31m         \u001b[0;32mreturn\u001b[0m \u001b[0mself\u001b[0m\u001b[0;34m.\u001b[0m\u001b[0mrandrange\u001b[0m\u001b[0;34m(\u001b[0m\u001b[0ma\u001b[0m\u001b[0;34m,\u001b[0m \u001b[0mb\u001b[0m\u001b[0;34m+\u001b[0m\u001b[0;36m1\u001b[0m\u001b[0;34m)\u001b[0m\u001b[0;34m\u001b[0m\u001b[0;34m\u001b[0m\u001b[0m\n\u001b[0m\u001b[1;32m    371\u001b[0m \u001b[0;34m\u001b[0m\u001b[0m\n\u001b[1;32m    372\u001b[0m \u001b[0;34m\u001b[0m\u001b[0m\n",
            "\u001b[0;32m/usr/lib/python3.10/random.py\u001b[0m in \u001b[0;36mrandrange\u001b[0;34m(self, start, stop, step)\u001b[0m\n\u001b[1;32m    351\u001b[0m             \u001b[0;32mif\u001b[0m \u001b[0mwidth\u001b[0m \u001b[0;34m>\u001b[0m \u001b[0;36m0\u001b[0m\u001b[0;34m:\u001b[0m\u001b[0;34m\u001b[0m\u001b[0;34m\u001b[0m\u001b[0m\n\u001b[1;32m    352\u001b[0m                 \u001b[0;32mreturn\u001b[0m \u001b[0mistart\u001b[0m \u001b[0;34m+\u001b[0m \u001b[0mself\u001b[0m\u001b[0;34m.\u001b[0m\u001b[0m_randbelow\u001b[0m\u001b[0;34m(\u001b[0m\u001b[0mwidth\u001b[0m\u001b[0;34m)\u001b[0m\u001b[0;34m\u001b[0m\u001b[0;34m\u001b[0m\u001b[0m\n\u001b[0;32m--> 353\u001b[0;31m             \u001b[0;32mraise\u001b[0m \u001b[0mValueError\u001b[0m\u001b[0;34m(\u001b[0m\u001b[0;34m\"empty range for randrange() (%d, %d, %d)\"\u001b[0m \u001b[0;34m%\u001b[0m \u001b[0;34m(\u001b[0m\u001b[0mistart\u001b[0m\u001b[0;34m,\u001b[0m \u001b[0mistop\u001b[0m\u001b[0;34m,\u001b[0m \u001b[0mwidth\u001b[0m\u001b[0;34m)\u001b[0m\u001b[0;34m)\u001b[0m\u001b[0;34m\u001b[0m\u001b[0;34m\u001b[0m\u001b[0m\n\u001b[0m\u001b[1;32m    354\u001b[0m \u001b[0;34m\u001b[0m\u001b[0m\n\u001b[1;32m    355\u001b[0m         \u001b[0;31m# Non-unit step argument supplied.\u001b[0m\u001b[0;34m\u001b[0m\u001b[0;34m\u001b[0m\u001b[0m\n",
            "\u001b[0;31mValueError\u001b[0m: empty range for randrange() (1, 1, 0)"
          ]
        }
      ]
    }
  ]
}