{
  "nbformat": 4,
  "nbformat_minor": 0,
  "metadata": {
    "colab": {
      "provenance": [],
      "include_colab_link": true
    },
    "kernelspec": {
      "name": "python3",
      "display_name": "Python 3"
    },
    "language_info": {
      "name": "python"
    }
  },
  "cells": [
    {
      "cell_type": "markdown",
      "metadata": {
        "id": "view-in-github",
        "colab_type": "text"
      },
      "source": [
        "<a href=\"https://colab.research.google.com/github/devyn-miller/mgsc-mt2/blob/main/LinearProgramming.ipynb\" target=\"_parent\"><img src=\"https://colab.research.google.com/assets/colab-badge.svg\" alt=\"Open In Colab\"/></a>"
      ]
    },
    {
      "cell_type": "code",
      "source": [
        "! pip install ortools"
      ],
      "metadata": {
        "colab": {
          "base_uri": "https://localhost:8080/"
        },
        "id": "VsddlT03UC-P",
        "outputId": "9efed4f1-fc69-4ddc-885f-46ee5a0d08f2"
      },
      "execution_count": null,
      "outputs": [
        {
          "output_type": "stream",
          "name": "stdout",
          "text": [
            "Collecting ortools\n",
            "  Downloading ortools-9.8.3296-cp310-cp310-manylinux_2_17_x86_64.manylinux2014_x86_64.whl (22.9 MB)\n",
            "\u001b[2K     \u001b[90m━━━━━━━━━━━━━━━━━━━━━━━━━━━━━━━━━━━━━━━━\u001b[0m \u001b[32m22.9/22.9 MB\u001b[0m \u001b[31m43.7 MB/s\u001b[0m eta \u001b[36m0:00:00\u001b[0m\n",
            "\u001b[?25hCollecting absl-py>=2.0.0 (from ortools)\n",
            "  Downloading absl_py-2.0.0-py3-none-any.whl (130 kB)\n",
            "\u001b[2K     \u001b[90m━━━━━━━━━━━━━━━━━━━━━━━━━━━━━━━━━━━━━━━━\u001b[0m \u001b[32m130.2/130.2 kB\u001b[0m \u001b[31m14.1 MB/s\u001b[0m eta \u001b[36m0:00:00\u001b[0m\n",
            "\u001b[?25hRequirement already satisfied: numpy>=1.13.3 in /usr/local/lib/python3.10/dist-packages (from ortools) (1.23.5)\n",
            "Collecting pandas>=2.0.0 (from ortools)\n",
            "  Downloading pandas-2.1.3-cp310-cp310-manylinux_2_17_x86_64.manylinux2014_x86_64.whl (12.3 MB)\n",
            "\u001b[2K     \u001b[90m━━━━━━━━━━━━━━━━━━━━━━━━━━━━━━━━━━━━━━━━\u001b[0m \u001b[32m12.3/12.3 MB\u001b[0m \u001b[31m68.6 MB/s\u001b[0m eta \u001b[36m0:00:00\u001b[0m\n",
            "\u001b[?25hCollecting protobuf>=4.25.0 (from ortools)\n",
            "  Downloading protobuf-4.25.1-cp37-abi3-manylinux2014_x86_64.whl (294 kB)\n",
            "\u001b[2K     \u001b[90m━━━━━━━━━━━━━━━━━━━━━━━━━━━━━━━━━━━━━━━━\u001b[0m \u001b[32m294.6/294.6 kB\u001b[0m \u001b[31m25.2 MB/s\u001b[0m eta \u001b[36m0:00:00\u001b[0m\n",
            "\u001b[?25hRequirement already satisfied: python-dateutil>=2.8.2 in /usr/local/lib/python3.10/dist-packages (from pandas>=2.0.0->ortools) (2.8.2)\n",
            "Requirement already satisfied: pytz>=2020.1 in /usr/local/lib/python3.10/dist-packages (from pandas>=2.0.0->ortools) (2023.3.post1)\n",
            "Collecting tzdata>=2022.1 (from pandas>=2.0.0->ortools)\n",
            "  Downloading tzdata-2023.3-py2.py3-none-any.whl (341 kB)\n",
            "\u001b[2K     \u001b[90m━━━━━━━━━━━━━━━━━━━━━━━━━━━━━━━━━━━━━━━━\u001b[0m \u001b[32m341.8/341.8 kB\u001b[0m \u001b[31m30.5 MB/s\u001b[0m eta \u001b[36m0:00:00\u001b[0m\n",
            "\u001b[?25hRequirement already satisfied: six>=1.5 in /usr/local/lib/python3.10/dist-packages (from python-dateutil>=2.8.2->pandas>=2.0.0->ortools) (1.16.0)\n",
            "Installing collected packages: tzdata, protobuf, absl-py, pandas, ortools\n",
            "  Attempting uninstall: protobuf\n",
            "    Found existing installation: protobuf 3.20.3\n",
            "    Uninstalling protobuf-3.20.3:\n",
            "      Successfully uninstalled protobuf-3.20.3\n",
            "  Attempting uninstall: absl-py\n",
            "    Found existing installation: absl-py 1.4.0\n",
            "    Uninstalling absl-py-1.4.0:\n",
            "      Successfully uninstalled absl-py-1.4.0\n",
            "  Attempting uninstall: pandas\n",
            "    Found existing installation: pandas 1.5.3\n",
            "    Uninstalling pandas-1.5.3:\n",
            "      Successfully uninstalled pandas-1.5.3\n",
            "\u001b[31mERROR: pip's dependency resolver does not currently take into account all the packages that are installed. This behaviour is the source of the following dependency conflicts.\n",
            "lida 0.0.10 requires fastapi, which is not installed.\n",
            "lida 0.0.10 requires kaleido, which is not installed.\n",
            "lida 0.0.10 requires python-multipart, which is not installed.\n",
            "lida 0.0.10 requires uvicorn, which is not installed.\n",
            "google-colab 1.0.0 requires pandas==1.5.3, but you have pandas 2.1.3 which is incompatible.\n",
            "tensorflow-metadata 1.14.0 requires absl-py<2.0.0,>=0.9, but you have absl-py 2.0.0 which is incompatible.\n",
            "tensorflow-metadata 1.14.0 requires protobuf<4.21,>=3.20.3, but you have protobuf 4.25.1 which is incompatible.\u001b[0m\u001b[31m\n",
            "\u001b[0mSuccessfully installed absl-py-2.0.0 ortools-9.8.3296 pandas-2.1.3 protobuf-4.25.1 tzdata-2023.3\n"
          ]
        }
      ]
    },
    {
      "cell_type": "code",
      "execution_count": null,
      "metadata": {
        "id": "9qf3avhpTQGd"
      },
      "outputs": [],
      "source": [
        "import random\n",
        "from ortools.linear_solver import pywraplp"
      ]
    },
    {
      "cell_type": "code",
      "source": [
        "sol = pywraplp.Solver.CreateSolver('GLOP')\n",
        "pets_list = ['cats','dogs','bunnies','lizards','snakes','crocodile','hamster','fish']\n",
        "pets_var = []\n",
        "for pet in pets_list:\n",
        "  pets_var.append(sol.NumVar(0,sol.infinity(),pet))\n",
        "print(sol.NumVariables())"
      ],
      "metadata": {
        "colab": {
          "base_uri": "https://localhost:8080/"
        },
        "id": "XMGo_qzFbWLu",
        "outputId": "c01084c6-509c-4744-8f82-9d4d646ebe9f"
      },
      "execution_count": null,
      "outputs": [
        {
          "output_type": "stream",
          "name": "stdout",
          "text": [
            "8\n"
          ]
        }
      ]
    },
    {
      "cell_type": "code",
      "source": [
        "size = [3,4,2,1,5,10,1,1]\n",
        "sol.Add(49>=sum(size[i]*pets_var[i] for i in range(len(pets_var))))\n",
        "sol.Add(pets_var[0]+pets_var[1]<=10)\n",
        "sol.Add(pets_var[5]<=1)\n",
        "sol.Add(pets_var[2]>=2)\n",
        "sol.Add(pets_var[6]-2*pets_var[0]>=0)\n",
        "for i in range(len(pets_list)):\n",
        "  sol.Add(pets_var[i]<=5)\n",
        "print(sol.NumConstraints())"
      ],
      "metadata": {
        "colab": {
          "base_uri": "https://localhost:8080/"
        },
        "id": "gk7uCnrYchBR",
        "outputId": "e39ecf03-17e2-4686-a2da-54fa78908d49"
      },
      "execution_count": null,
      "outputs": [
        {
          "output_type": "stream",
          "name": "stdout",
          "text": [
            "13\n"
          ]
        }
      ]
    },
    {
      "cell_type": "code",
      "source": [
        "values = [5,10,6,3,4,50,4.5,1.9]\n",
        "sol.Maximize(sum(values[i]*pets_var[i] for i in range(len(pets_list))))"
      ],
      "metadata": {
        "id": "KHoOJN-ggmj1"
      },
      "execution_count": null,
      "outputs": []
    },
    {
      "cell_type": "code",
      "source": [
        "status = sol.Solve()"
      ],
      "metadata": {
        "id": "hTcxeSXQhZWo"
      },
      "execution_count": null,
      "outputs": []
    },
    {
      "cell_type": "code",
      "source": [
        "if status == pywraplp.Solver.OPTIMAL:\n",
        "  print('Solution')\n",
        "  print(f'Maximum Value: {sol.Objective().Value()}')\n",
        "  for i,pet in enumerate(pets_list):\n",
        "    print(f'Number of {pet}: {pets_var[i].solution_value()}')"
      ],
      "metadata": {
        "colab": {
          "base_uri": "https://localhost:8080/"
        },
        "id": "VZgfVWrThiLP",
        "outputId": "632703dc-2d40-46fc-8b2d-c271730afce7"
      },
      "execution_count": null,
      "outputs": [
        {
          "output_type": "stream",
          "name": "stdout",
          "text": [
            "Solution\n",
            "Maximum Value: 164.99999999999997\n",
            "Number of cats: 0.0\n",
            "Number of dogs: 4.749999999999997\n",
            "Number of bunnies: 5.0\n",
            "Number of lizards: 5.0\n",
            "Number of snakes: 0.0\n",
            "Number of crocodile: 1.0\n",
            "Number of hamster: 5.0\n",
            "Number of fish: 0.0\n"
          ]
        }
      ]
    },
    {
      "cell_type": "code",
      "source": [
        "sum(size[i]*pets_var[i].solution_value() for i in range(len(pets_list)))"
      ],
      "metadata": {
        "colab": {
          "base_uri": "https://localhost:8080/"
        },
        "id": "Di-b9nYMihEw",
        "outputId": "fa3abd65-a2e4-4b42-f7e2-e248dfbb310b"
      },
      "execution_count": null,
      "outputs": [
        {
          "output_type": "execute_result",
          "data": {
            "text/plain": [
              "48.999999999999986"
            ]
          },
          "metadata": {},
          "execution_count": 26
        }
      ]
    },
    {
      "cell_type": "markdown",
      "source": [
        "# Big knapsack"
      ],
      "metadata": {
        "id": "8C8E7bOgbSLN"
      }
    },
    {
      "cell_type": "code",
      "source": [
        "num_items = 100\n",
        "weights = [random.randint(1,10) for i in range(num_items)]\n",
        "values = [random.randint(20,50) for i in range(num_items)]"
      ],
      "metadata": {
        "id": "oKfJR3LjT_75"
      },
      "execution_count": null,
      "outputs": []
    },
    {
      "cell_type": "code",
      "source": [
        "solver = pywraplp.Solver.CreateSolver('GLOP')\n",
        "vars_list = []\n",
        "for i in range(num_items):\n",
        "  vars_list.append(solver.NumVar(0,solver.infinity(),'Item '+str(i)))"
      ],
      "metadata": {
        "id": "g47ZiMGFVKTT"
      },
      "execution_count": null,
      "outputs": []
    },
    {
      "cell_type": "code",
      "source": [
        "solver.Add(100>=sum(weights[i]*vars_list[i] for i in range(num_items)))\n",
        "for i in range(num_items):\n",
        "  solver.Add(vars_list[i]<=4)"
      ],
      "metadata": {
        "id": "CwWq1ElWWU3w"
      },
      "execution_count": null,
      "outputs": []
    },
    {
      "cell_type": "code",
      "source": [
        "solver.Maximize(sum(vars_list[i]*values[i] for i in range(num_items)))"
      ],
      "metadata": {
        "id": "LuL3A2NvjPzm"
      },
      "execution_count": null,
      "outputs": []
    },
    {
      "cell_type": "code",
      "source": [
        "status1 = solver.Solve()"
      ],
      "metadata": {
        "id": "rxNnlWW8jhQa"
      },
      "execution_count": null,
      "outputs": []
    },
    {
      "cell_type": "code",
      "source": [
        "if status1 == pywraplp.Solver.OPTIMAL:\n",
        "  print('Solution')\n",
        "  print(f'Maximum Value: {solver.Objective().Value()}')\n",
        "  for i,item in enumerate(vars_list):\n",
        "    print(f'Item {i}: {item.solution_value()}')"
      ],
      "metadata": {
        "colab": {
          "base_uri": "https://localhost:8080/"
        },
        "id": "9A_BQXZ2jj5Q",
        "outputId": "b1cf99d8-2d03-4c89-df9a-5f5e96a751b0"
      },
      "execution_count": null,
      "outputs": [
        {
          "output_type": "stream",
          "name": "stdout",
          "text": [
            "Solution\n",
            "Maximum Value: 2678.6666666666665\n",
            "Item 0: 0.0\n",
            "Item 1: 0.0\n",
            "Item 2: 0.0\n",
            "Item 3: 0.0\n",
            "Item 4: 0.0\n",
            "Item 5: 0.0\n",
            "Item 6: 0.0\n",
            "Item 7: 0.0\n",
            "Item 8: 0.0\n",
            "Item 9: 0.0\n",
            "Item 10: 0.0\n",
            "Item 11: 0.0\n",
            "Item 12: 0.0\n",
            "Item 13: 0.0\n",
            "Item 14: 2.666666666666667\n",
            "Item 15: 4.0\n",
            "Item 16: 0.0\n",
            "Item 17: 4.0\n",
            "Item 18: 0.0\n",
            "Item 19: 0.0\n",
            "Item 20: 0.0\n",
            "Item 21: 0.0\n",
            "Item 22: 0.0\n",
            "Item 23: 0.0\n",
            "Item 24: 0.0\n",
            "Item 25: 4.0\n",
            "Item 26: 0.0\n",
            "Item 27: 0.0\n",
            "Item 28: 0.0\n",
            "Item 29: 4.0\n",
            "Item 30: 0.0\n",
            "Item 31: 4.0\n",
            "Item 32: 0.0\n",
            "Item 33: 0.0\n",
            "Item 34: 0.0\n",
            "Item 35: 0.0\n",
            "Item 36: 0.0\n",
            "Item 37: 0.0\n",
            "Item 38: 0.0\n",
            "Item 39: 0.0\n",
            "Item 40: 0.0\n",
            "Item 41: 0.0\n",
            "Item 42: 0.0\n",
            "Item 43: 0.0\n",
            "Item 44: 0.0\n",
            "Item 45: 0.0\n",
            "Item 46: 0.0\n",
            "Item 47: 4.0\n",
            "Item 48: 0.0\n",
            "Item 49: 0.0\n",
            "Item 50: 0.0\n",
            "Item 51: 4.0\n",
            "Item 52: 0.0\n",
            "Item 53: 0.0\n",
            "Item 54: 0.0\n",
            "Item 55: 4.0\n",
            "Item 56: 0.0\n",
            "Item 57: 0.0\n",
            "Item 58: 0.0\n",
            "Item 59: 0.0\n",
            "Item 60: 0.0\n",
            "Item 61: 0.0\n",
            "Item 62: 0.0\n",
            "Item 63: 0.0\n",
            "Item 64: 0.0\n",
            "Item 65: 4.0\n",
            "Item 66: 4.0\n",
            "Item 67: 0.0\n",
            "Item 68: 0.0\n",
            "Item 69: 0.0\n",
            "Item 70: 4.0\n",
            "Item 71: 0.0\n",
            "Item 72: 0.0\n",
            "Item 73: 0.0\n",
            "Item 74: 0.0\n",
            "Item 75: 0.0\n",
            "Item 76: 0.0\n",
            "Item 77: 0.0\n",
            "Item 78: 4.0\n",
            "Item 79: 0.0\n",
            "Item 80: 0.0\n",
            "Item 81: 0.0\n",
            "Item 82: 0.0\n",
            "Item 83: 0.0\n",
            "Item 84: 0.0\n",
            "Item 85: 4.0\n",
            "Item 86: 4.0\n",
            "Item 87: 0.0\n",
            "Item 88: 4.0\n",
            "Item 89: 0.0\n",
            "Item 90: 4.0\n",
            "Item 91: 0.0\n",
            "Item 92: 0.0\n",
            "Item 93: 0.0\n",
            "Item 94: 0.0\n",
            "Item 95: 0.0\n",
            "Item 96: 0.0\n",
            "Item 97: 0.0\n",
            "Item 98: 0.0\n",
            "Item 99: 0.0\n"
          ]
        }
      ]
    }
  ]
}